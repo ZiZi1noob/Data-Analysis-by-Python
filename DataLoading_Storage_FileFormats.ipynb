{
 "cells": [
  {
   "cell_type": "code",
   "execution_count": 20,
   "id": "a3b9a047",
   "metadata": {},
   "outputs": [],
   "source": [
    "import numpy as np\n",
    "import pandas as pd"
   ]
  },
  {
   "cell_type": "markdown",
   "id": "beda5b51",
   "metadata": {},
   "source": [
    "Parsing functions in pandas\n",
    "\n",
    "Function\t    Description\n",
    "read_csv\t    Load delimited data from a file, URL, or file-like object. Use comma as default delimiter\n",
    "read_table\t    Load delimited data from a file, URL, or file-like object. Use tab ('\\t') as default delimiter\n",
    "read_fwf\t    Read data in fixed-width column format (that is, no delimiters)\n",
    "read_clipboard\tVersion of read_table that reads data from the clipboard. Useful for converting tables from web pages"
   ]
  },
  {
   "cell_type": "markdown",
   "id": "d71ac7de",
   "metadata": {},
   "source": [
    " read_csv /read_table function arguments\n",
    "\n",
    "Argument\t            Description\n",
    "path\t                String indicating filesystem location, URL, or file-like object\n",
    "sep or delimiter\t    Character sequence or regular expression to use to split fields in each row\n",
    "header\t                Row number to use as column names. Defaults to 0 (first row), but should be None if there is no header row\n",
    "index_col\t            Column numbers or names to use as the row index in the result. Can be a single name/number or a list of them for a hierarchical index\n",
    "names\t                List of column names for result, combine with header=None\n",
    "skiprows\t            Number of rows at beginning of file to ignore or list of row numbers (starting from 0) to skip\n",
    "na_values\t            Sequence of values to replace with NA\n",
    "comment\t                Character or characters to split comments off the end of lines\n",
    "parse_dates\t            Attempt to parse data to datetime; \n",
    "keep_date_col\t        If joining columns to parse date, keep the joined columns. Default False\n",
    "converters\t            Dict containing column number of name mapping to functions. For example {'foo': f} would apply the function f to all values in the 'foo' column\n",
    "dayfirst\t            When parsing potentially ambiguous dates, treat as international format (e.g. 7/6/2012 -> June 7, 2012). Default False\n",
    "date_parser\t            Function to use to parse dates\n",
    "nrows\t                Number of rows to read from beginning of file\n",
    "iterator\t            Return a TextParser object for reading file piecemeal\n",
    "chunksize\t            For iteration, size of file chunks\n",
    "skip_footer\t            Number of lines to ignore at end of file\n",
    "verbose\t                Print various parser output information, like the number of missing values placed in non-numeric columns\n",
    "encoding\t            Text encoding for unicode. For example 'utf-8' for UTF-8 encoded text\n",
    "squeeze\t                If the parsed data only contains one column return a Series\n",
    "thousands\t            Separator for thousands, e.g. ',' or '.'"
   ]
  },
  {
   "cell_type": "code",
   "execution_count": 21,
   "id": "558810bd",
   "metadata": {},
   "outputs": [
    {
     "data": {
      "text/html": [
       "<div>\n",
       "<style scoped>\n",
       "    .dataframe tbody tr th:only-of-type {\n",
       "        vertical-align: middle;\n",
       "    }\n",
       "\n",
       "    .dataframe tbody tr th {\n",
       "        vertical-align: top;\n",
       "    }\n",
       "\n",
       "    .dataframe thead th {\n",
       "        text-align: right;\n",
       "    }\n",
       "</style>\n",
       "<table border=\"1\" class=\"dataframe\">\n",
       "  <thead>\n",
       "    <tr style=\"text-align: right;\">\n",
       "      <th></th>\n",
       "      <th>Country</th>\n",
       "      <th>Country Code</th>\n",
       "      <th>HDI</th>\n",
       "      <th>Year</th>\n",
       "    </tr>\n",
       "  </thead>\n",
       "  <tbody>\n",
       "    <tr>\n",
       "      <th>0</th>\n",
       "      <td>Australia</td>\n",
       "      <td>AUS</td>\n",
       "      <td>0.873</td>\n",
       "      <td>1992</td>\n",
       "    </tr>\n",
       "    <tr>\n",
       "      <th>1</th>\n",
       "      <td>United States</td>\n",
       "      <td>USA</td>\n",
       "      <td>0.872</td>\n",
       "      <td>1992</td>\n",
       "    </tr>\n",
       "    <tr>\n",
       "      <th>2</th>\n",
       "      <td>Australia</td>\n",
       "      <td>AUS</td>\n",
       "      <td>0.876</td>\n",
       "      <td>1993</td>\n",
       "    </tr>\n",
       "    <tr>\n",
       "      <th>3</th>\n",
       "      <td>Norway</td>\n",
       "      <td>NOR</td>\n",
       "      <td>0.861</td>\n",
       "      <td>1992</td>\n",
       "    </tr>\n",
       "    <tr>\n",
       "      <th>4</th>\n",
       "      <td>Norway</td>\n",
       "      <td>NOR</td>\n",
       "      <td>0.869</td>\n",
       "      <td>1993</td>\n",
       "    </tr>\n",
       "    <tr>\n",
       "      <th>5</th>\n",
       "      <td>Canada</td>\n",
       "      <td>CAN</td>\n",
       "      <td>0.857</td>\n",
       "      <td>1992</td>\n",
       "    </tr>\n",
       "    <tr>\n",
       "      <th>6</th>\n",
       "      <td>Canada</td>\n",
       "      <td>CAN</td>\n",
       "      <td>0.855</td>\n",
       "      <td>1993</td>\n",
       "    </tr>\n",
       "    <tr>\n",
       "      <th>7</th>\n",
       "      <td>Switzerland</td>\n",
       "      <td>CHE</td>\n",
       "      <td>0.845</td>\n",
       "      <td>1992</td>\n",
       "    </tr>\n",
       "    <tr>\n",
       "      <th>8</th>\n",
       "      <td>France</td>\n",
       "      <td>FRA</td>\n",
       "      <td>0.810</td>\n",
       "      <td>1993</td>\n",
       "    </tr>\n",
       "    <tr>\n",
       "      <th>9</th>\n",
       "      <td>Finland</td>\n",
       "      <td>FIN</td>\n",
       "      <td>0.805</td>\n",
       "      <td>1993</td>\n",
       "    </tr>\n",
       "  </tbody>\n",
       "</table>\n",
       "</div>"
      ],
      "text/plain": [
       "         Country Country Code    HDI  Year\n",
       "0      Australia          AUS  0.873  1992\n",
       "1  United States          USA  0.872  1992\n",
       "2      Australia          AUS  0.876  1993\n",
       "3         Norway          NOR  0.861  1992\n",
       "4         Norway          NOR  0.869  1993\n",
       "5         Canada          CAN  0.857  1992\n",
       "6         Canada          CAN  0.855  1993\n",
       "7    Switzerland          CHE  0.845  1992\n",
       "8         France          FRA  0.810  1993\n",
       "9        Finland          FIN  0.805  1993"
      ]
     },
     "execution_count": 21,
     "metadata": {},
     "output_type": "execute_result"
    }
   ],
   "source": [
    "#1. make sure document's format matches the function. e.g. csv not xlsm\n",
    "#2. make sure add r if you use absolute path and '\\'\n",
    "csv = pd.read_csv(r'C:\\Users\\ZiZi\\OneDrive - University of Illinois - Urbana\\PythonLearning\\Python for data analysis\\HDI.csv')\n",
    "csv"
   ]
  },
  {
   "cell_type": "code",
   "execution_count": 22,
   "id": "138fe8e7",
   "metadata": {},
   "outputs": [
    {
     "data": {
      "text/html": [
       "<div>\n",
       "<style scoped>\n",
       "    .dataframe tbody tr th:only-of-type {\n",
       "        vertical-align: middle;\n",
       "    }\n",
       "\n",
       "    .dataframe tbody tr th {\n",
       "        vertical-align: top;\n",
       "    }\n",
       "\n",
       "    .dataframe thead th {\n",
       "        text-align: right;\n",
       "    }\n",
       "</style>\n",
       "<table border=\"1\" class=\"dataframe\">\n",
       "  <thead>\n",
       "    <tr style=\"text-align: right;\">\n",
       "      <th></th>\n",
       "      <th>Country</th>\n",
       "      <th>Country Code</th>\n",
       "      <th>HDI</th>\n",
       "      <th>Year</th>\n",
       "    </tr>\n",
       "  </thead>\n",
       "  <tbody>\n",
       "    <tr>\n",
       "      <th>0</th>\n",
       "      <td>Australia</td>\n",
       "      <td>AUS</td>\n",
       "      <td>0.873</td>\n",
       "      <td>1992</td>\n",
       "    </tr>\n",
       "    <tr>\n",
       "      <th>1</th>\n",
       "      <td>United States</td>\n",
       "      <td>USA</td>\n",
       "      <td>0.872</td>\n",
       "      <td>1992</td>\n",
       "    </tr>\n",
       "    <tr>\n",
       "      <th>2</th>\n",
       "      <td>Australia</td>\n",
       "      <td>AUS</td>\n",
       "      <td>0.876</td>\n",
       "      <td>1993</td>\n",
       "    </tr>\n",
       "    <tr>\n",
       "      <th>3</th>\n",
       "      <td>Norway</td>\n",
       "      <td>NOR</td>\n",
       "      <td>0.861</td>\n",
       "      <td>1992</td>\n",
       "    </tr>\n",
       "    <tr>\n",
       "      <th>4</th>\n",
       "      <td>Norway</td>\n",
       "      <td>NOR</td>\n",
       "      <td>0.869</td>\n",
       "      <td>1993</td>\n",
       "    </tr>\n",
       "    <tr>\n",
       "      <th>5</th>\n",
       "      <td>Canada</td>\n",
       "      <td>CAN</td>\n",
       "      <td>0.857</td>\n",
       "      <td>1992</td>\n",
       "    </tr>\n",
       "    <tr>\n",
       "      <th>6</th>\n",
       "      <td>Canada</td>\n",
       "      <td>CAN</td>\n",
       "      <td>0.855</td>\n",
       "      <td>1993</td>\n",
       "    </tr>\n",
       "    <tr>\n",
       "      <th>7</th>\n",
       "      <td>Switzerland</td>\n",
       "      <td>CHE</td>\n",
       "      <td>0.845</td>\n",
       "      <td>1992</td>\n",
       "    </tr>\n",
       "    <tr>\n",
       "      <th>8</th>\n",
       "      <td>France</td>\n",
       "      <td>FRA</td>\n",
       "      <td>0.810</td>\n",
       "      <td>1993</td>\n",
       "    </tr>\n",
       "    <tr>\n",
       "      <th>9</th>\n",
       "      <td>Finland</td>\n",
       "      <td>FIN</td>\n",
       "      <td>0.805</td>\n",
       "      <td>1993</td>\n",
       "    </tr>\n",
       "  </tbody>\n",
       "</table>\n",
       "</div>"
      ],
      "text/plain": [
       "         Country Country Code    HDI  Year\n",
       "0      Australia          AUS  0.873  1992\n",
       "1  United States          USA  0.872  1992\n",
       "2      Australia          AUS  0.876  1993\n",
       "3         Norway          NOR  0.861  1992\n",
       "4         Norway          NOR  0.869  1993\n",
       "5         Canada          CAN  0.857  1992\n",
       "6         Canada          CAN  0.855  1993\n",
       "7    Switzerland          CHE  0.845  1992\n",
       "8         France          FRA  0.810  1993\n",
       "9        Finland          FIN  0.805  1993"
      ]
     },
     "execution_count": 22,
     "metadata": {},
     "output_type": "execute_result"
    }
   ],
   "source": [
    "read_table = pd.read_table(r'C:\\Users\\ZiZi\\OneDrive - University of Illinois - Urbana\\PythonLearning\\Python for data analysis\\HDI.csv', sep= ',')\n",
    "read_table"
   ]
  },
  {
   "cell_type": "markdown",
   "id": "d987adec",
   "metadata": {},
   "source": [
    "Sometimes, you might meet csv with no headers. we could use 'header', which add number order, or 'names'"
   ]
  },
  {
   "cell_type": "code",
   "execution_count": 23,
   "id": "4f7e3c78",
   "metadata": {},
   "outputs": [
    {
     "data": {
      "text/html": [
       "<div>\n",
       "<style scoped>\n",
       "    .dataframe tbody tr th:only-of-type {\n",
       "        vertical-align: middle;\n",
       "    }\n",
       "\n",
       "    .dataframe tbody tr th {\n",
       "        vertical-align: top;\n",
       "    }\n",
       "\n",
       "    .dataframe thead th {\n",
       "        text-align: right;\n",
       "    }\n",
       "</style>\n",
       "<table border=\"1\" class=\"dataframe\">\n",
       "  <thead>\n",
       "    <tr style=\"text-align: right;\">\n",
       "      <th></th>\n",
       "      <th>Count</th>\n",
       "      <th>缩写</th>\n",
       "      <th>HDI</th>\n",
       "      <th>Year</th>\n",
       "    </tr>\n",
       "  </thead>\n",
       "  <tbody>\n",
       "    <tr>\n",
       "      <th>0</th>\n",
       "      <td>United States</td>\n",
       "      <td>USA</td>\n",
       "      <td>0.877</td>\n",
       "      <td>1993</td>\n",
       "    </tr>\n",
       "    <tr>\n",
       "      <th>1</th>\n",
       "      <td>Australia</td>\n",
       "      <td>AUS</td>\n",
       "      <td>0.876</td>\n",
       "      <td>1993</td>\n",
       "    </tr>\n",
       "    <tr>\n",
       "      <th>2</th>\n",
       "      <td>Norway</td>\n",
       "      <td>NOR</td>\n",
       "      <td>0.869</td>\n",
       "      <td>1993</td>\n",
       "    </tr>\n",
       "    <tr>\n",
       "      <th>3</th>\n",
       "      <td>Canada</td>\n",
       "      <td>CAN</td>\n",
       "      <td>0.855</td>\n",
       "      <td>1993</td>\n",
       "    </tr>\n",
       "    <tr>\n",
       "      <th>4</th>\n",
       "      <td>Switzerland</td>\n",
       "      <td>CHE</td>\n",
       "      <td>0.849</td>\n",
       "      <td>1993</td>\n",
       "    </tr>\n",
       "    <tr>\n",
       "      <th>5</th>\n",
       "      <td>Austria</td>\n",
       "      <td>AUT</td>\n",
       "      <td>0.817</td>\n",
       "      <td>1993</td>\n",
       "    </tr>\n",
       "    <tr>\n",
       "      <th>6</th>\n",
       "      <td>Luxembourg</td>\n",
       "      <td>LUX</td>\n",
       "      <td>0.813</td>\n",
       "      <td>1993</td>\n",
       "    </tr>\n",
       "    <tr>\n",
       "      <th>7</th>\n",
       "      <td>France</td>\n",
       "      <td>FRA</td>\n",
       "      <td>0.810</td>\n",
       "      <td>1993</td>\n",
       "    </tr>\n",
       "    <tr>\n",
       "      <th>8</th>\n",
       "      <td>Finland</td>\n",
       "      <td>FIN</td>\n",
       "      <td>0.805</td>\n",
       "      <td>1993</td>\n",
       "    </tr>\n",
       "  </tbody>\n",
       "</table>\n",
       "</div>"
      ],
      "text/plain": [
       "           Count   缩写    HDI  Year\n",
       "0  United States  USA  0.877  1993\n",
       "1      Australia  AUS  0.876  1993\n",
       "2         Norway  NOR  0.869  1993\n",
       "3         Canada  CAN  0.855  1993\n",
       "4    Switzerland  CHE  0.849  1993\n",
       "5        Austria  AUT  0.817  1993\n",
       "6     Luxembourg  LUX  0.813  1993\n",
       "7         France  FRA  0.810  1993\n",
       "8        Finland  FIN  0.805  1993"
      ]
     },
     "execution_count": 23,
     "metadata": {},
     "output_type": "execute_result"
    }
   ],
   "source": [
    "read_csv_noheader = pd.read_csv(r'C:\\Users\\ZiZi\\OneDrive - University of Illinois - Urbana\\PythonLearning\\Python for data analysis\\HDINoheaders.csv' ,names = ['Count', '缩写', 'HDI','Year'])\n",
    "read_csv_noheader"
   ]
  },
  {
   "cell_type": "markdown",
   "id": "3805b5de",
   "metadata": {},
   "source": [
    "Here, we use 'index_col.' This paramater move the column--'Country' as the index."
   ]
  },
  {
   "cell_type": "code",
   "execution_count": 24,
   "id": "d378dde8",
   "metadata": {},
   "outputs": [
    {
     "data": {
      "text/html": [
       "<div>\n",
       "<style scoped>\n",
       "    .dataframe tbody tr th:only-of-type {\n",
       "        vertical-align: middle;\n",
       "    }\n",
       "\n",
       "    .dataframe tbody tr th {\n",
       "        vertical-align: top;\n",
       "    }\n",
       "\n",
       "    .dataframe thead th {\n",
       "        text-align: right;\n",
       "    }\n",
       "</style>\n",
       "<table border=\"1\" class=\"dataframe\">\n",
       "  <thead>\n",
       "    <tr style=\"text-align: right;\">\n",
       "      <th></th>\n",
       "      <th>缩写</th>\n",
       "      <th>HDI</th>\n",
       "      <th>Year</th>\n",
       "    </tr>\n",
       "    <tr>\n",
       "      <th>Count</th>\n",
       "      <th></th>\n",
       "      <th></th>\n",
       "      <th></th>\n",
       "    </tr>\n",
       "  </thead>\n",
       "  <tbody>\n",
       "    <tr>\n",
       "      <th>United States</th>\n",
       "      <td>USA</td>\n",
       "      <td>0.877</td>\n",
       "      <td>1993</td>\n",
       "    </tr>\n",
       "    <tr>\n",
       "      <th>Australia</th>\n",
       "      <td>AUS</td>\n",
       "      <td>0.876</td>\n",
       "      <td>1993</td>\n",
       "    </tr>\n",
       "    <tr>\n",
       "      <th>Norway</th>\n",
       "      <td>NOR</td>\n",
       "      <td>0.869</td>\n",
       "      <td>1993</td>\n",
       "    </tr>\n",
       "    <tr>\n",
       "      <th>Canada</th>\n",
       "      <td>CAN</td>\n",
       "      <td>0.855</td>\n",
       "      <td>1993</td>\n",
       "    </tr>\n",
       "    <tr>\n",
       "      <th>Switzerland</th>\n",
       "      <td>CHE</td>\n",
       "      <td>0.849</td>\n",
       "      <td>1993</td>\n",
       "    </tr>\n",
       "    <tr>\n",
       "      <th>Austria</th>\n",
       "      <td>AUT</td>\n",
       "      <td>0.817</td>\n",
       "      <td>1993</td>\n",
       "    </tr>\n",
       "    <tr>\n",
       "      <th>Luxembourg</th>\n",
       "      <td>LUX</td>\n",
       "      <td>0.813</td>\n",
       "      <td>1993</td>\n",
       "    </tr>\n",
       "    <tr>\n",
       "      <th>France</th>\n",
       "      <td>FRA</td>\n",
       "      <td>0.810</td>\n",
       "      <td>1993</td>\n",
       "    </tr>\n",
       "    <tr>\n",
       "      <th>Finland</th>\n",
       "      <td>FIN</td>\n",
       "      <td>0.805</td>\n",
       "      <td>1993</td>\n",
       "    </tr>\n",
       "  </tbody>\n",
       "</table>\n",
       "</div>"
      ],
      "text/plain": [
       "                缩写    HDI  Year\n",
       "Count                          \n",
       "United States  USA  0.877  1993\n",
       "Australia      AUS  0.876  1993\n",
       "Norway         NOR  0.869  1993\n",
       "Canada         CAN  0.855  1993\n",
       "Switzerland    CHE  0.849  1993\n",
       "Austria        AUT  0.817  1993\n",
       "Luxembourg     LUX  0.813  1993\n",
       "France         FRA  0.810  1993\n",
       "Finland        FIN  0.805  1993"
      ]
     },
     "execution_count": 24,
     "metadata": {},
     "output_type": "execute_result"
    }
   ],
   "source": [
    "read_csv_noheader2 = pd.read_csv(r'C:\\Users\\ZiZi\\OneDrive - University of Illinois - Urbana\\PythonLearning\\Python for data analysis\\HDINoheaders.csv' ,\n",
    "names = ['Count', '缩写', 'HDI','Year'], index_col='Count')\n",
    "read_csv_noheader2"
   ]
  },
  {
   "cell_type": "code",
   "execution_count": 25,
   "id": "1e220174",
   "metadata": {},
   "outputs": [
    {
     "data": {
      "text/plain": [
       "['United States\\tUSA\\t0.877\\t1993\\n',\n",
       " 'Australia\\tAUS\\t0.876\\t1993\\n',\n",
       " 'Norway\\tNOR\\t0.869\\t1993\\n',\n",
       " 'Canada\\tCAN\\t0.855\\t1993\\n',\n",
       " 'Switzerland\\tCHE\\t0.849\\t1993\\n',\n",
       " 'Netherlands\\tNLD\\t0.846\\t1993\\n',\n",
       " 'Sweden\\tSWE\\t0.846\\t1993\\n',\n",
       " 'Belgium\\tBEL\\t0.845\\t1993\\n',\n",
       " 'New Zealand\\tNZL\\t0.844\\t1993\\n']"
      ]
     },
     "execution_count": 25,
     "metadata": {},
     "output_type": "execute_result"
    }
   ],
   "source": [
    "read_txt = list(open(r'C:\\Users\\ZiZi\\OneDrive - University of Illinois - Urbana\\PythonLearning\\Python for data analysis\\HDI_no_comma.txt'))\n",
    "read_txt"
   ]
  },
  {
   "cell_type": "code",
   "execution_count": 26,
   "id": "c0ea5c05",
   "metadata": {},
   "outputs": [
    {
     "data": {
      "text/plain": [
       "['United States,USA,0.877,1993\\n',\n",
       " 'Australia,AUS,0.876,1993\\n',\n",
       " 'Norway,NOR,0.869,\\t1993\\n',\n",
       " 'Canada,CAN,0.855,1993\\n',\n",
       " 'Switzerland,CHE,0.849,1993\\n',\n",
       " 'Netherlands,NLD,0.846,1993']"
      ]
     },
     "execution_count": 26,
     "metadata": {},
     "output_type": "execute_result"
    }
   ],
   "source": [
    "read_txt2 = list(open(r'C:\\Users\\ZiZi\\OneDrive - University of Illinois - Urbana\\PythonLearning\\Python for data analysis\\HDI_with_comma.txt'))\n",
    "read_txt2"
   ]
  },
  {
   "cell_type": "markdown",
   "id": "d3d604d6",
   "metadata": {},
   "source": [
    "sep = '\\s+' matches any whitespace character (equivalent to [\\r\\n\\t\\f\\v ])"
   ]
  },
  {
   "cell_type": "code",
   "execution_count": 27,
   "id": "ebf2eb50",
   "metadata": {},
   "outputs": [
    {
     "data": {
      "text/html": [
       "<div>\n",
       "<style scoped>\n",
       "    .dataframe tbody tr th:only-of-type {\n",
       "        vertical-align: middle;\n",
       "    }\n",
       "\n",
       "    .dataframe tbody tr th {\n",
       "        vertical-align: top;\n",
       "    }\n",
       "\n",
       "    .dataframe thead th {\n",
       "        text-align: right;\n",
       "    }\n",
       "</style>\n",
       "<table border=\"1\" class=\"dataframe\">\n",
       "  <thead>\n",
       "    <tr style=\"text-align: right;\">\n",
       "      <th></th>\n",
       "      <th>Count</th>\n",
       "      <th>Abbre</th>\n",
       "      <th>HDI</th>\n",
       "      <th>year</th>\n",
       "    </tr>\n",
       "  </thead>\n",
       "  <tbody>\n",
       "    <tr>\n",
       "      <th>United</th>\n",
       "      <td>States</td>\n",
       "      <td>USA</td>\n",
       "      <td>0.877</td>\n",
       "      <td>1993.0</td>\n",
       "    </tr>\n",
       "    <tr>\n",
       "      <th>Australia</th>\n",
       "      <td>AUS</td>\n",
       "      <td>0.876</td>\n",
       "      <td>1993.000</td>\n",
       "      <td>NaN</td>\n",
       "    </tr>\n",
       "    <tr>\n",
       "      <th>Norway</th>\n",
       "      <td>NOR</td>\n",
       "      <td>0.869</td>\n",
       "      <td>1993.000</td>\n",
       "      <td>NaN</td>\n",
       "    </tr>\n",
       "    <tr>\n",
       "      <th>Canada</th>\n",
       "      <td>CAN</td>\n",
       "      <td>0.855</td>\n",
       "      <td>1993.000</td>\n",
       "      <td>NaN</td>\n",
       "    </tr>\n",
       "    <tr>\n",
       "      <th>Switzerland</th>\n",
       "      <td>CHE</td>\n",
       "      <td>0.849</td>\n",
       "      <td>1993.000</td>\n",
       "      <td>NaN</td>\n",
       "    </tr>\n",
       "    <tr>\n",
       "      <th>Netherlands</th>\n",
       "      <td>NLD</td>\n",
       "      <td>0.846</td>\n",
       "      <td>1993.000</td>\n",
       "      <td>NaN</td>\n",
       "    </tr>\n",
       "    <tr>\n",
       "      <th>Sweden</th>\n",
       "      <td>SWE</td>\n",
       "      <td>0.846</td>\n",
       "      <td>1993.000</td>\n",
       "      <td>NaN</td>\n",
       "    </tr>\n",
       "    <tr>\n",
       "      <th>Belgium</th>\n",
       "      <td>BEL</td>\n",
       "      <td>0.845</td>\n",
       "      <td>1993.000</td>\n",
       "      <td>NaN</td>\n",
       "    </tr>\n",
       "    <tr>\n",
       "      <th>New</th>\n",
       "      <td>Zealand</td>\n",
       "      <td>NZL</td>\n",
       "      <td>0.844</td>\n",
       "      <td>1993.0</td>\n",
       "    </tr>\n",
       "  </tbody>\n",
       "</table>\n",
       "</div>"
      ],
      "text/plain": [
       "               Count  Abbre       HDI    year\n",
       "United        States    USA     0.877  1993.0\n",
       "Australia        AUS  0.876  1993.000     NaN\n",
       "Norway           NOR  0.869  1993.000     NaN\n",
       "Canada           CAN  0.855  1993.000     NaN\n",
       "Switzerland      CHE  0.849  1993.000     NaN\n",
       "Netherlands      NLD  0.846  1993.000     NaN\n",
       "Sweden           SWE  0.846  1993.000     NaN\n",
       "Belgium          BEL  0.845  1993.000     NaN\n",
       "New          Zealand    NZL     0.844  1993.0"
      ]
     },
     "execution_count": 27,
     "metadata": {},
     "output_type": "execute_result"
    }
   ],
   "source": [
    "read_txt3 = pd.read_table(r'C:\\Users\\ZiZi\\OneDrive - University of Illinois - Urbana\\PythonLearning\\Python for data analysis\\HDI_no_comma.txt',\n",
    "                         sep= '\\s+',names= ['Count', 'Abbre', 'HDI', 'year'])\n",
    "read_txt3"
   ]
  },
  {
   "cell_type": "code",
   "execution_count": 28,
   "id": "84b52b9b",
   "metadata": {},
   "outputs": [
    {
     "data": {
      "text/html": [
       "<div>\n",
       "<style scoped>\n",
       "    .dataframe tbody tr th:only-of-type {\n",
       "        vertical-align: middle;\n",
       "    }\n",
       "\n",
       "    .dataframe tbody tr th {\n",
       "        vertical-align: top;\n",
       "    }\n",
       "\n",
       "    .dataframe thead th {\n",
       "        text-align: right;\n",
       "    }\n",
       "</style>\n",
       "<table border=\"1\" class=\"dataframe\">\n",
       "  <thead>\n",
       "    <tr style=\"text-align: right;\">\n",
       "      <th></th>\n",
       "      <th>Count</th>\n",
       "      <th>Abbre</th>\n",
       "      <th>HDI</th>\n",
       "      <th>year</th>\n",
       "    </tr>\n",
       "  </thead>\n",
       "  <tbody>\n",
       "    <tr>\n",
       "      <th>United</th>\n",
       "      <td>States</td>\n",
       "      <td>USA</td>\n",
       "      <td>0.877</td>\n",
       "      <td>1993.0</td>\n",
       "    </tr>\n",
       "    <tr>\n",
       "      <th>Belgium</th>\n",
       "      <td>BEL</td>\n",
       "      <td>0.845</td>\n",
       "      <td>1993.000</td>\n",
       "      <td>NaN</td>\n",
       "    </tr>\n",
       "    <tr>\n",
       "      <th>New</th>\n",
       "      <td>Zealand</td>\n",
       "      <td>NZL</td>\n",
       "      <td>0.844</td>\n",
       "      <td>1993.0</td>\n",
       "    </tr>\n",
       "  </tbody>\n",
       "</table>\n",
       "</div>"
      ],
      "text/plain": [
       "           Count  Abbre       HDI    year\n",
       "United    States    USA     0.877  1993.0\n",
       "Belgium      BEL  0.845  1993.000     NaN\n",
       "New      Zealand    NZL     0.844  1993.0"
      ]
     },
     "execution_count": 28,
     "metadata": {},
     "output_type": "execute_result"
    }
   ],
   "source": [
    "read_txt4 = pd.read_table(r'C:\\Users\\ZiZi\\OneDrive - University of Illinois - Urbana\\PythonLearning\\Python for data analysis\\HDI_no_comma.txt', \n",
    "sep= '\\s+',names= ['Count', 'Abbre', 'HDI', 'year'], skiprows=[1,2,3,4,5,6])\n",
    "read_txt4"
   ]
  },
  {
   "cell_type": "markdown",
   "id": "3958b0b2",
   "metadata": {},
   "source": [
    "Missing data is usually either not present (empty string) or marked by some sentinel value. By default, pandas uses a set of commonly occurring sentinels, such as NA, -1.#IND, and NULL. The na_values option can identify the Nan values."
   ]
  },
  {
   "cell_type": "code",
   "execution_count": 36,
   "id": "23929b29",
   "metadata": {},
   "outputs": [
    {
     "data": {
      "text/html": [
       "<div>\n",
       "<style scoped>\n",
       "    .dataframe tbody tr th:only-of-type {\n",
       "        vertical-align: middle;\n",
       "    }\n",
       "\n",
       "    .dataframe tbody tr th {\n",
       "        vertical-align: top;\n",
       "    }\n",
       "\n",
       "    .dataframe thead th {\n",
       "        text-align: right;\n",
       "    }\n",
       "</style>\n",
       "<table border=\"1\" class=\"dataframe\">\n",
       "  <thead>\n",
       "    <tr style=\"text-align: right;\">\n",
       "      <th></th>\n",
       "      <th>Count</th>\n",
       "      <th>Abbre</th>\n",
       "      <th>HDI</th>\n",
       "      <th>Year</th>\n",
       "    </tr>\n",
       "  </thead>\n",
       "  <tbody>\n",
       "    <tr>\n",
       "      <th>0</th>\n",
       "      <td>United States</td>\n",
       "      <td>USA</td>\n",
       "      <td>0.877</td>\n",
       "      <td>1993</td>\n",
       "    </tr>\n",
       "    <tr>\n",
       "      <th>1</th>\n",
       "      <td>Australia</td>\n",
       "      <td>AUS</td>\n",
       "      <td>NaN</td>\n",
       "      <td>NaN</td>\n",
       "    </tr>\n",
       "    <tr>\n",
       "      <th>2</th>\n",
       "      <td>Norway</td>\n",
       "      <td>NOR</td>\n",
       "      <td>0.869</td>\n",
       "      <td>1993</td>\n",
       "    </tr>\n",
       "    <tr>\n",
       "      <th>3</th>\n",
       "      <td>b2v3</td>\n",
       "      <td>CAN</td>\n",
       "      <td>NaN</td>\n",
       "      <td>1993</td>\n",
       "    </tr>\n",
       "    <tr>\n",
       "      <th>4</th>\n",
       "      <td>Switzerland</td>\n",
       "      <td>CHE</td>\n",
       "      <td>0.849</td>\n",
       "      <td>1993</td>\n",
       "    </tr>\n",
       "    <tr>\n",
       "      <th>5</th>\n",
       "      <td>Austria</td>\n",
       "      <td>AUT</td>\n",
       "      <td>0.817</td>\n",
       "      <td>vvv</td>\n",
       "    </tr>\n",
       "    <tr>\n",
       "      <th>6</th>\n",
       "      <td>Luxembourg</td>\n",
       "      <td>LUX</td>\n",
       "      <td>0.813</td>\n",
       "      <td>1993</td>\n",
       "    </tr>\n",
       "    <tr>\n",
       "      <th>7</th>\n",
       "      <td>France</td>\n",
       "      <td>FRA</td>\n",
       "      <td>hhh</td>\n",
       "      <td>1993</td>\n",
       "    </tr>\n",
       "    <tr>\n",
       "      <th>8</th>\n",
       "      <td>Finland</td>\n",
       "      <td>FIN</td>\n",
       "      <td>0.805</td>\n",
       "      <td>1993</td>\n",
       "    </tr>\n",
       "  </tbody>\n",
       "</table>\n",
       "</div>"
      ],
      "text/plain": [
       "           Count Abbre    HDI  Year\n",
       "0  United States   USA  0.877  1993\n",
       "1      Australia   AUS    NaN   NaN\n",
       "2         Norway   NOR  0.869  1993\n",
       "3           b2v3   CAN    NaN  1993\n",
       "4    Switzerland   CHE  0.849  1993\n",
       "5        Austria   AUT  0.817   vvv\n",
       "6     Luxembourg   LUX  0.813  1993\n",
       "7         France   FRA    hhh  1993\n",
       "8        Finland   FIN  0.805  1993"
      ]
     },
     "execution_count": 36,
     "metadata": {},
     "output_type": "execute_result"
    }
   ],
   "source": [
    "rule = {'Year':[' '], 'HDI':['gfg12', 'df']}\n",
    "csv_with_null = pd.read_csv(r'C:\\Users\\ZiZi\\OneDrive - University of Illinois - Urbana\\PythonLearning\\Python for data analysis\\HDIwithNULL.csv', \n",
    "names=['Count', 'Abbre', 'HDI', 'Year'], na_values=rule)\n",
    "csv_with_null"
   ]
  },
  {
   "cell_type": "markdown",
   "id": "3b5e81a4",
   "metadata": {},
   "source": [
    "1. If you want to only read out a small number of rows (avoiding reading the entire file), specify that with 'nrows'\n",
    "2. 'chunksize' divide the file to chunksize-number of rows"
   ]
  },
  {
   "cell_type": "code",
   "execution_count": 42,
   "id": "6b23ba13",
   "metadata": {},
   "outputs": [
    {
     "data": {
      "text/html": [
       "<div>\n",
       "<style scoped>\n",
       "    .dataframe tbody tr th:only-of-type {\n",
       "        vertical-align: middle;\n",
       "    }\n",
       "\n",
       "    .dataframe tbody tr th {\n",
       "        vertical-align: top;\n",
       "    }\n",
       "\n",
       "    .dataframe thead th {\n",
       "        text-align: right;\n",
       "    }\n",
       "</style>\n",
       "<table border=\"1\" class=\"dataframe\">\n",
       "  <thead>\n",
       "    <tr style=\"text-align: right;\">\n",
       "      <th></th>\n",
       "      <th>Count</th>\n",
       "      <th>缩写</th>\n",
       "      <th>HDI</th>\n",
       "      <th>Year</th>\n",
       "    </tr>\n",
       "  </thead>\n",
       "  <tbody>\n",
       "    <tr>\n",
       "      <th>0</th>\n",
       "      <td>United States</td>\n",
       "      <td>USA</td>\n",
       "      <td>0.877</td>\n",
       "      <td>1993</td>\n",
       "    </tr>\n",
       "    <tr>\n",
       "      <th>1</th>\n",
       "      <td>Australia</td>\n",
       "      <td>AUS</td>\n",
       "      <td>0.876</td>\n",
       "      <td>1993</td>\n",
       "    </tr>\n",
       "    <tr>\n",
       "      <th>2</th>\n",
       "      <td>Norway</td>\n",
       "      <td>NOR</td>\n",
       "      <td>0.869</td>\n",
       "      <td>1993</td>\n",
       "    </tr>\n",
       "  </tbody>\n",
       "</table>\n",
       "</div>"
      ],
      "text/plain": [
       "           Count   缩写    HDI  Year\n",
       "0  United States  USA  0.877  1993\n",
       "1      Australia  AUS  0.876  1993\n",
       "2         Norway  NOR  0.869  1993"
      ]
     },
     "execution_count": 42,
     "metadata": {},
     "output_type": "execute_result"
    }
   ],
   "source": [
    "read_csv_noheader5 = pd.read_csv(r'C:\\Users\\ZiZi\\OneDrive - University of Illinois - Urbana\\PythonLearning\\Python for data analysis\\HDINoheaders.csv' ,\n",
    "names = ['Count', '缩写', 'HDI','Year'], nrows=3)\n",
    "read_csv_noheader5"
   ]
  },
  {
   "cell_type": "code",
   "execution_count": 43,
   "id": "7f902e24",
   "metadata": {},
   "outputs": [
    {
     "name": "stdout",
     "output_type": "stream",
     "text": [
      "           Count   缩写    HDI  Year\n",
      "0  United States  USA  0.877  1993\n",
      "1      Australia  AUS  0.876  1993\n",
      "2         Norway  NOR  0.869  1993\n",
      "3         Canada  CAN  0.855  1993\n"
     ]
    }
   ],
   "source": [
    "read_csv_noheader3 = pd.read_csv(r'C:\\Users\\ZiZi\\OneDrive - University of Illinois - Urbana\\PythonLearning\\Python for data analysis\\HDINoheaders.csv' ,\n",
    "names = ['Count', '缩写', 'HDI','Year'], chunksize=4)\n",
    "for i in read_csv_noheader3:\n",
    "    print(i)\n",
    "    break"
   ]
  },
  {
   "cell_type": "markdown",
   "id": "7bd0287f",
   "metadata": {},
   "source": [
    "Next section is about wrting data to files!"
   ]
  },
  {
   "cell_type": "code",
   "execution_count": 56,
   "id": "b80598db",
   "metadata": {},
   "outputs": [],
   "source": [
    "data = read_csv_noheader5\n",
    "file_result = data.to_csv('result1.csv', index= False, header=False)"
   ]
  },
  {
   "cell_type": "code",
   "execution_count": 60,
   "id": "909607ae",
   "metadata": {},
   "outputs": [],
   "source": [
    "file_result = data.to_csv('result2.csv', index= False, columns=['Year'])"
   ]
  },
  {
   "cell_type": "markdown",
   "id": "cf78878d",
   "metadata": {},
   "source": [
    "In some cases, however, some manual processing may be necessary. It’s not uncommon to receive a file with one or more malformed lines that trip up read_table."
   ]
  },
  {
   "cell_type": "markdown",
   "id": "930befdc",
   "metadata": {},
   "source": [
    "        CSV dialect options\n",
    "\n",
    "Argument\t            Description\n",
    "delimiter\t            One-character string to separate fields. Defaults to ','.\n",
    "lineterminator\t        Line terminator for writing, defaults to '\\r\\n'. Reader ignores this and recognizes cross-platform line terminators.\n",
    "quotechar\t            Quote character for fields with special characters (like a delimiter). Default is '\"'.\n",
    "quoting\t                Quoting convention. Options include csv.QUOTE_ALL (quote all fields), csv.QUOTE_MINIMAL (only fields with special characters       like the delimiter), csv.QUOTE_NONNUMERIC, and csv.QUOTE_NON (no quoting). See Python’s documentation for full details. Defaults to QUOTE_MINIMAL.\n",
    "\n",
    "skipinitialspace\t    Ignore whitespace after each delimiter. Default False.\n",
    "doublequote\t            How to handle quoting character inside a field. If True, it is doubled. See online documentation for full detail and behavior.\n",
    "escapechar      \t    String to escape the delimiter if quoting is set to csv.QUOTE_NONE. Disabled by default"
   ]
  },
  {
   "cell_type": "code",
   "execution_count": 73,
   "id": "00e031b9",
   "metadata": {},
   "outputs": [
    {
     "data": {
      "text/plain": [
       "<_csv.reader at 0x1a2a23dfdd8>"
      ]
     },
     "execution_count": 73,
     "metadata": {},
     "output_type": "execute_result"
    }
   ],
   "source": [
    "import csv\n",
    "f = open(r'C:\\Users\\ZiZi\\OneDrive - University of Illinois - Urbana\\PythonLearning\\Python for data analysis\\HDI.csv')\n",
    "reader = csv.reader(f)\n",
    "reader"
   ]
  },
  {
   "cell_type": "code",
   "execution_count": 74,
   "id": "33f03fde",
   "metadata": {},
   "outputs": [
    {
     "name": "stdout",
     "output_type": "stream",
     "text": [
      "['锘緾ountry', 'Country Code', 'HDI', 'Year']\n",
      "['Australia', 'AUS', '0.873', '1992']\n",
      "['United States', 'USA', '0.872', '1992']\n",
      "['Australia', 'AUS', '0.876', '1993']\n",
      "['Norway', 'NOR', '0.861', '1992']\n",
      "['Norway', 'NOR', '0.869', '1993']\n",
      "['Canada', 'CAN', '0.857', '1992']\n",
      "['Canada', 'CAN', '0.855', '1993']\n",
      "['Switzerland', 'CHE', '0.845', '1992']\n",
      "['France', 'FRA', '0.81', '1993']\n",
      "['Finland', 'FIN', '0.805', '1993']\n"
     ]
    }
   ],
   "source": [
    "for line in reader:\n",
    "    print(line)"
   ]
  },
  {
   "cell_type": "code",
   "execution_count": 82,
   "id": "39cf645a",
   "metadata": {},
   "outputs": [
    {
     "name": "stdout",
     "output_type": "stream",
     "text": [
      "['锘緾ountry', 'Country Code', 'HDI', 'Year']\n",
      " \n",
      "[['Australia', 'AUS', '0.873', '1992'], ['United States', 'USA', '0.872', '1992'], ['Australia', 'AUS', '0.876', '1993'], ['Norway', 'NOR', '0.861', '1992'], ['Norway', 'NOR', '0.869', '1993'], ['Canada', 'CAN', '0.857', '1992'], ['Canada', 'CAN', '0.855', '1993'], ['Switzerland', 'CHE', '0.845', '1992'], ['France', 'FRA', '0.81', '1993'], ['Finland', 'FIN', '0.805', '1993']]\n"
     ]
    }
   ],
   "source": [
    "lines = list(csv.reader(open(r'C:\\Users\\ZiZi\\OneDrive - University of Illinois - Urbana\\PythonLearning\\Python for data analysis\\HDI.csv')))\n",
    "header, values = lines[0], lines[1:]\n",
    "print(header)\n",
    "print(' ')\n",
    "print(values)"
   ]
  },
  {
   "cell_type": "markdown",
   "id": "7aea7883",
   "metadata": {},
   "source": [
    "Web Scraping: XML and HTML\n",
    "beautiful soup. coming soon......"
   ]
  },
  {
   "cell_type": "markdown",
   "id": "7a817df5",
   "metadata": {},
   "source": [
    "JSON DATA\n",
    "JSON (short for JavaScript Object Notation) has become one of the standard formats for sending data by HTTP request between web browsers and other applications. It is a much more flexible data format than a tabular text form like CSV."
   ]
  },
  {
   "cell_type": "markdown",
   "id": "a50f7231",
   "metadata": {},
   "source": [
    "Reading Microsoft Excel Files\n",
    "pandas also supports reading tabular data stored in Excel 2003 (and higher) files using the ExcelFile class. Internally ExcelFile uses the xlrd and openpyxl packages, so you may have to install them first. To use ExcelFile, create an instance by passing a path to an xls or xlsx file:"
   ]
  },
  {
   "cell_type": "code",
   "execution_count": null,
   "id": "e8f0bf73",
   "metadata": {},
   "outputs": [],
   "source": [
    "xls_file = pd.ExcelFile('data.xls')\n",
    "table = xls_file.parse('Sheet1')"
   ]
  },
  {
   "cell_type": "markdown",
   "id": "f64c7fb7",
   "metadata": {},
   "source": [
    "Interacting with Databases"
   ]
  }
 ],
 "metadata": {
  "kernelspec": {
   "display_name": "Python 3 (ipykernel)",
   "language": "python",
   "name": "python3"
  },
  "language_info": {
   "codemirror_mode": {
    "name": "ipython",
    "version": 3
   },
   "file_extension": ".py",
   "mimetype": "text/x-python",
   "name": "python",
   "nbconvert_exporter": "python",
   "pygments_lexer": "ipython3",
   "version": "3.7.12"
  }
 },
 "nbformat": 4,
 "nbformat_minor": 5
}
